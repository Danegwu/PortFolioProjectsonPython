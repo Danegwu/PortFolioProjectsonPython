{
 "cells": [
  {
   "cell_type": "markdown",
   "id": "deef4e57",
   "metadata": {},
   "source": [
    "# WEB SCRAPING TASK"
   ]
  },
  {
   "cell_type": "markdown",
   "id": "1c7940fd",
   "metadata": {},
   "source": [
    "Research and web scrape the following:\n",
    "1.\tWrite a Python program to find the live weather report (Temperature) in Tokyo, Osaka and Sapporo.\n",
    " \n",
    "2.\tWrite a Python program to get the number of magnitude 5+ earthquakes detected worldwide by British Geological Survey. \n"
   ]
  },
  {
   "cell_type": "markdown",
   "id": "f2d63957",
   "metadata": {},
   "source": [
    "## IMPLEMENTING THE SOLUTION"
   ]
  },
  {
   "cell_type": "markdown",
   "id": "c03e6c1a",
   "metadata": {},
   "source": [
    "# QUESTION 1"
   ]
  },
  {
   "cell_type": "markdown",
   "id": "96f864ec",
   "metadata": {},
   "source": [
    "1. Write a Python program to find the live weather report (Temperature) in Tokyo, Osaka and Sapporo."
   ]
  },
  {
   "cell_type": "code",
   "execution_count": 2,
   "id": "997ec97d",
   "metadata": {},
   "outputs": [
    {
     "name": "stdout",
     "output_type": "stream",
     "text": [
      "Enter the Name of City -> Tokoyo\n",
      "Searching...Please be patient\n",
      "\n",
      "Location is; Tokyo, Japan\n",
      "Day & Time is; Tuesday 08:00\n",
      "It is; Cloudy\n",
      "Weather is; 5°C\n",
      "Chances it will Rain is; 40%\n",
      "The Humidity is; 54%\n",
      "Current Wind is; 3 mph\n",
      "Do have a Productive Day:)\n",
      "------------------------------------------------\n",
      "Enter the Name of City -> Osaka\n",
      "Searching...Please be patient\n",
      "\n",
      "Location is; Osaka, Japan\n",
      "Day & Time is; Tuesday 08:00\n",
      "It is; Clear\n",
      "Weather is; 5°C\n",
      "Chances it will Rain is; 10%\n",
      "The Humidity is; 78%\n",
      "Current Wind is; 2 mph\n",
      "Do have a Productive Day:)\n",
      "------------------------------------------------\n",
      "Enter the Name of City -> Sapporo\n",
      "Searching...Please be patient\n",
      "\n",
      "Location is; Sapporo, Hokkaido, Japan\n",
      "Day & Time is; Tuesday 08:00\n",
      "It is; Snow\n",
      "Weather is; 1°C\n",
      "Chances it will Rain is; 40%\n",
      "The Humidity is; 66%\n",
      "Current Wind is; 2 mph\n",
      "Do have a Productive Day:)\n",
      "------------------------------------------------\n"
     ]
    }
   ],
   "source": [
    "from bs4 import BeautifulSoup\n",
    "import requests\n",
    "headers = {\n",
    "    'User-Agent': 'Mozilla/5.0 (Windows NT 10.0; Win64; x64) AppleWebKit/537.36 (KHTML, like Gecko) Chrome/58.0.3029.110 Safari/537.3'}\n",
    "\n",
    "\n",
    "def weather(city):\n",
    "    city = city.replace(\" \", \"+\")\n",
    "    res = requests.get(\n",
    "        f'https://www.google.com/search?q={city}&oq={city}&aqs=chrome.0.35i39l2j0l4j46j69i60.6128j1j7&sourceid=chrome&ie=UTF-8', headers=headers)\n",
    "    print(\"Searching...Please be patient\\n\")\n",
    "    soup = BeautifulSoup(res.text, 'html.parser')\n",
    "    location = soup.select('#wob_loc')[0].getText().strip()\n",
    "    time = soup.select('#wob_dts')[0].getText().strip()\n",
    "    info = soup.select('#wob_dc')[0].getText().strip()\n",
    "    weather = soup.select('#wob_tm')[0].getText().strip()\n",
    "    precipitation = soup.select('#wob_pp')[0].getText().strip()\n",
    "    humidity = soup.select('#wob_hm')[0].getText().strip()\n",
    "    wind = soup.select('#wob_ws')[0].getText().strip()\n",
    "    print(\"Location is;\", location)\n",
    "    print(\"Day & Time is;\",time)\n",
    "    print(\"It is;\",info)\n",
    "    print(\"Weather is;\",weather+\"°C\")\n",
    "    print(\"Chances it will Rain is;\",precipitation)\n",
    "    print(\"The Humidity is;\",humidity)\n",
    "    print(\"Current Wind is;\", wind)\n",
    "\n",
    "for i in range(3): \n",
    "    city = input(\"Enter the Name of City -> \")\n",
    "    city = city+\" weather\"\n",
    "    weather(city)\n",
    "    print(\"Do have a Productive Day:)\")\n",
    "    print('------------------------------------------------')"
   ]
  },
  {
   "cell_type": "markdown",
   "id": "a5860752",
   "metadata": {},
   "source": [
    "# QUESTION 2"
   ]
  },
  {
   "cell_type": "markdown",
   "id": "d585c385",
   "metadata": {},
   "source": [
    "2.\tWrite a Python program to get the number of magnitude 5+ earthquakes detected worldwide by British Geological Survey. "
   ]
  },
  {
   "cell_type": "code",
   "execution_count": 3,
   "id": "c5f317b7",
   "metadata": {},
   "outputs": [
    {
     "name": "stdout",
     "output_type": "stream",
     "text": [
      "          Date  Time (UTC)     Lat      Lon  Depth (km)  Mag  Int  \\\n",
      "0   2021/11/28  10:52:17.5  -3.474  -76.771         112  7.5    7   \n",
      "1   2021/11/14  12:07:01.7  27.608   56.343          10  6.0    7   \n",
      "2   2021/11/14  12:08:38.1  27.686   56.123          10  6.3    7   \n",
      "3   2021/11/11  13:21:39.8  63.904  -19.674          10  5.1    4   \n",
      "4   2021/11/10  15:45:12.3  23.541  126.480          10  6.6    4   \n",
      "5   2021/10/12  09:24:03.5  35.193   26.256          10  6.4    5   \n",
      "6   2021/10/11  09:10:22.1  56.258 -156.553          33  6.9    5   \n",
      "7   2021/10/09  10:58:31.7 -21.172  174.529         520  6.9    4   \n",
      "8   2021/10/06  22:01:08.1  30.220   68.015           9  5.9    7   \n",
      "9   2021/10/02  06:29:18.8 -21.127  174.896         527  7.3    4   \n",
      "10  2021/09/27  06:17:21.0  35.244   25.270           6  6.0    6   \n",
      "11  2021/09/22  09:57:03.4  12.140  -87.865          21  6.5    5   \n",
      "12  2021/09/21  23:16:05.1 -37.492  146.353          12  5.9    4   \n",
      "13  2021/09/08  01:47:46.7  16.947  -99.753          20  7.0    7   \n",
      "14  2021/08/22  21:33:19.7 -60.285  -24.874          10  7.1    1   \n",
      "15  2021/08/22  00:45:10.5 -60.140  -24.221          10  6.8    1   \n",
      "16  2021/08/18  10:09:59.7 -14.882  167.059          93  6.9    5   \n",
      "17  2021/08/16  11:10:36.0 -58.369  -23.355          16  6.9    1   \n",
      "18  2021/08/14  12:29:09.6  18.434  -73.482          10  7.2    9   \n",
      "19  2021/08/14  11:57:44.3  54.829 -156.735          33  6.9    5   \n",
      "20  2021/08/12  18:35:17.0 -58.375  -25.264          22  8.1    1   \n",
      "21  2021/08/12  18:32:52.0 -56.567  -25.032          47  7.5    1   \n",
      "22  2021/08/11  17:46:13.5   6.475  126.715          55  7.1    7   \n",
      "23  2021/07/29  06:15:47.3  54.821 -158.873          33  8.2    7   \n",
      "24  2021/07/23  20:48:56.8  13.705  120.726         110  6.7    5   \n",
      "25  2021/07/21  21:15:15.9   7.393  -82.779          10  6.7    5   \n",
      "26  2021/07/01  11:11:51.1  46.776    8.369           9  4.1    4   \n",
      "27  2021/06/26  03:00:26.0  48.493    7.531           5  4.2    4   \n",
      "28  2021/06/20  17:05:50.3 -30.216 -177.845          25  6.5    4   \n",
      "\n",
      "                    Region            Comment  \n",
      "0            NORTHERN PERU             LORETO  \n",
      "1            SOUTHERN IRAN          HORMOZGAN  \n",
      "2            SOUTHERN IRAN          HORMOZGAN  \n",
      "3                  ICELAND              SOUTH  \n",
      "4     RYUKYU ISLANDS,JAPAN                NaN  \n",
      "5             CRETE,GREECE                NaN  \n",
      "6         ALASKA PENINSULA      SHUMAGIN BANK  \n",
      "7      FIJI ISLANDS REGION                NaN  \n",
      "8                 PAKISTAN        BALOCHISTAN  \n",
      "9      FIJI ISLANDS REGION                NaN  \n",
      "10            CRETE,GREECE                NaN  \n",
      "11      OFFSHORE NICARAGUA                NaN  \n",
      "12               AUSTRALIA           VICTORIA  \n",
      "13                  MEXICO           GUERRERO  \n",
      "14  SOUTH SANDWICH ISLANDS                NaN  \n",
      "15  SOUTH SANDWICH ISLANDS                NaN  \n",
      "16                 VANUATU                NaN  \n",
      "17  SOUTH SANDWICH ISLANDS                NaN  \n",
      "18                   HAITI             NIPPES  \n",
      "19        ALASKA PENINSULA      SHUMAGIN BANK  \n",
      "20  SOUTH SANDWICH ISLANDS                NaN  \n",
      "21  SOUTH SANDWICH ISLANDS                NaN  \n",
      "22             PHILIPPINES           MINDANAO  \n",
      "23        ALASKA PENINSULA      SHUMAGIN BANK  \n",
      "24             PHILIPPINES            MINDORO  \n",
      "25         OFFSHORE PANAMA   GULF OF CHIRIQUI  \n",
      "26             SWITZERLAND   FELT SWITZERLAND  \n",
      "27        NORTHEAST FRANCE  FELT NE FRANCE...  \n",
      "28        KERMADEC ISLANDS                NaN  \n"
     ]
    }
   ],
   "source": [
    "url = 'http://www.earthquakes.bgs.ac.uk/earthquakes/recent_world_events.html'\n",
    "html = requests.get(url).content\n",
    "df_list = pd.read_html(html)\n",
    "df = df_list[-1]\n",
    "print (df)\n",
    "df.to_csv('weather.csv')"
   ]
  },
  {
   "cell_type": "code",
   "execution_count": 4,
   "id": "cd372b9e",
   "metadata": {},
   "outputs": [
    {
     "data": {
      "text/plain": [
       "Index(['Unnamed: 0', 'Date', 'Time (UTC)', 'Lat', 'Lon', 'Depth (km)', 'Mag',\n",
       "       'Int', 'Region', 'Comment'],\n",
       "      dtype='object')"
      ]
     },
     "execution_count": 4,
     "metadata": {},
     "output_type": "execute_result"
    }
   ],
   "source": [
    "#read the data and store at dataframe\n",
    "df = pd.read_csv(\"weather.csv\")\n",
    "#show all columns\n",
    "df.columns"
   ]
  },
  {
   "cell_type": "code",
   "execution_count": 5,
   "id": "ee3516ed",
   "metadata": {},
   "outputs": [
    {
     "name": "stdout",
     "output_type": "stream",
     "text": [
      "The number of magnitude 5+ earthquakes detected worldwide by the BGS between June 2021 and November 2021 is: 27\n"
     ]
    }
   ],
   "source": [
    "print(\"The number of magnitude 5+ earthquakes detected worldwide by the BGS between June 2021 and November 2021 is:\",\n",
    "      len(df[df.Mag>5]))"
   ]
  }
 ],
 "metadata": {
  "kernelspec": {
   "display_name": "Python 3",
   "language": "python",
   "name": "python3"
  },
  "language_info": {
   "codemirror_mode": {
    "name": "ipython",
    "version": 3
   },
   "file_extension": ".py",
   "mimetype": "text/x-python",
   "name": "python",
   "nbconvert_exporter": "python",
   "pygments_lexer": "ipython3",
   "version": "3.8.8"
  }
 },
 "nbformat": 4,
 "nbformat_minor": 5
}
